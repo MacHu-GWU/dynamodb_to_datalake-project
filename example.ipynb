{
 "cells": [
  {
   "cell_type": "markdown",
   "id": "5014b759-adfa-44da-9060-593c2031cb4e",
   "metadata": {},
   "source": [
    "# DynamoDB to DataLake"
   ]
  },
  {
   "cell_type": "markdown",
   "id": "04d8fb7a-a73a-4ef9-aae6-9687f2463417",
   "metadata": {},
   "source": [
    "## Setup Python Development Environment\n",
    "\n",
    "```bash\n",
    "# use python3.10 because AWS Glue 4.0 uses python3.10\n",
    "virtualenv -p python3.10 .venv\n",
    "\n",
    "# activate the virtualenv\n",
    "source .venv/bin/activate\n",
    "\n",
    "# install core dependencies\n",
    "pip install -r requirements.txt\n",
    "\n",
    "# install dev dependencies (jupyterlab)\n",
    "pip install -r requirements-dev.txt\n",
    "\n",
    "# install test dependencies\n",
    "pip install -r requirements-test.txt\n",
    "```"
   ]
  },
  {
   "cell_type": "markdown",
   "id": "850ad50e-983a-4eab-8634-5f1082bb94e2",
   "metadata": {},
   "source": [
    "## Import the dynamodb_to_datalake Python Library"
   ]
  },
  {
   "cell_type": "code",
   "execution_count": 1,
   "id": "33457beb-e37c-44e0-a869-54691db73169",
   "metadata": {},
   "outputs": [],
   "source": [
    "import dynamodb_to_datalake.api as dynamodb_to_datalake"
   ]
  },
  {
   "cell_type": "markdown",
   "id": "44e5bfc1-47b2-4314-b106-433c30e21aff",
   "metadata": {},
   "source": [
    "## Show Project Related Information"
   ]
  },
  {
   "cell_type": "code",
   "execution_count": 2,
   "id": "4fe3b0ab-7e62-4fc4-ae05-1097312b137e",
   "metadata": {},
   "outputs": [
    {
     "name": "stdout",
     "output_type": "stream",
     "text": [
      "------ S3 info\n",
      "s3dir_artifacts: https://console.aws.amazon.com/s3/buckets/807388292768-us-east-1-artifacts?prefix=projects/dynamodb_to_datalake/\n",
      "s3dir_data: https://console.aws.amazon.com/s3/buckets/807388292768-us-east-1-data?prefix=projects/dynamodb_to_datalake/\n",
      "s3dir_glue_artifacts: https://console.aws.amazon.com/s3/buckets/807388292768-us-east-1-artifacts?prefix=projects/dynamodb_to_datalake/glue/\n",
      "s3dir_dynamodb_stream: https://console.aws.amazon.com/s3/buckets/807388292768-us-east-1-data?prefix=projects/dynamodb_to_datalake/dynamodb_stream/\n",
      "s3dir_dynamodb_export: https://console.aws.amazon.com/s3/buckets/807388292768-us-east-1-data?prefix=projects/dynamodb_to_datalake/dynamodb_export/\n",
      "s3dir_dynamodb_export_processed: https://console.aws.amazon.com/s3/buckets/807388292768-us-east-1-data?prefix=projects/dynamodb_to_datalake/dynamodb_export_processed/\n",
      "s3path_dynamodb_export_tracker: https://console.aws.amazon.com/s3/object/807388292768-us-east-1-data?prefix=projects/dynamodb_to_datalake/dynamodb_export_tracker.json\n",
      "s3dir_incremental_glue_job_input: https://console.aws.amazon.com/s3/buckets/807388292768-us-east-1-data?prefix=projects/dynamodb_to_datalake/glue_jobs/incremental_glue_job_input/\n",
      "s3path_incremental_glue_job_tracker: https://console.aws.amazon.com/s3/object/807388292768-us-east-1-data?prefix=projects/dynamodb_to_datalake/glue_jobs/incremental_glue_job_tracker.json\n",
      "s3dir_database: https://console.aws.amazon.com/s3/buckets/807388292768-us-east-1-data?prefix=projects/dynamodb_to_datalake/databases/dynamodb_to_datalake/\n",
      "s3dir_table: https://console.aws.amazon.com/s3/buckets/807388292768-us-east-1-data?prefix=projects/dynamodb_to_datalake/databases/dynamodb_to_datalake/tables/transactions/\n",
      "------ IAM Role\n",
      "Lambda role: https://us-east-1.console.aws.amazon.com/iamv2/home?region=us-east-1#/roles/details/dynamodb_to_datalake-lambda_role_name?section=permissions\n",
      "Glue role: https://us-east-1.console.aws.amazon.com/iamv2/home?region=us-east-1#/roles/details/dynamodb_to_datalake-glue_role_name?section=permissions\n",
      "------ CloudFormation\n",
      "cloudformation stack 'dynamodb-to-datalake': https://us-east-1.console.aws.amazon.com/cloudformation/home?region=us-east-1#/stacks?filteringText=dynamodb-to-datalake&filteringStatus=active&viewNested=true\n",
      "------ DynamoDB\n",
      "dynamodb table 'dynamodb_to_datalake-transactions': https://us-east-1.console.aws.amazon.com/dynamodbv2/home?region=us-east-1#table?name=dynamodb_to_datalake-transactions\n",
      "------ Lambda Functions\n",
      "lambda function 'dynamodb_to_datalake_dynamodb_stream_consumer': https://us-east-1.console.aws.amazon.com/lambda/home?region=us-east-1#/functions/dynamodb_to_datalake_dynamodb_stream_consumer?tab=code\n",
      "lambda function 'dynamodb_to_datalake_export_post_process_coordinator': https://us-east-1.console.aws.amazon.com/lambda/home?region=us-east-1#/functions/dynamodb_to_datalake_export_post_process_coordinator?tab=code\n",
      "lambda function 'dynamodb_to_datalake_export_post_process_worker': https://us-east-1.console.aws.amazon.com/lambda/home?region=us-east-1#/functions/dynamodb_to_datalake_export_post_process_worker?tab=code\n",
      "------ Glue Catalog\n",
      "glue database 'dynamodb_to_datalake': https://us-east-1.console.aws.amazon.com/glue/home?region=us-east-1#/v2/data-catalog/databases/view/dynamodb_to_datalake\n",
      "------ Glue Jobs\n",
      "glue job 'dynamodb_to_datalake_initial_load': https://us-east-1.console.aws.amazon.com/gluestudio/home?region=us-east-1#/editor/job/dynamodb_to_datalake_initial_load/script\n",
      "glue job 'dynamodb_to_datalake_incremental': https://us-east-1.console.aws.amazon.com/gluestudio/home?region=us-east-1#/editor/job/dynamodb_to_datalake_incremental/script\n"
     ]
    }
   ],
   "source": [
    "dynamodb_to_datalake.show_info()"
   ]
  },
  {
   "cell_type": "markdown",
   "id": "8b95f751-c3be-4844-8e2e-1a2acbcf46e0",
   "metadata": {},
   "source": [
    "## Deploy the Solution via CDK - Infrastructure Resources\n",
    "\n",
    "- S3 buckets\n",
    "- IAM roles"
   ]
  },
  {
   "cell_type": "code",
   "execution_count": 4,
   "id": "628739b3-f0aa-4016-b646-d9c5f2137aa2",
   "metadata": {},
   "outputs": [
    {
     "name": "stdout",
     "output_type": "stream",
     "text": [
      "🚀 You are deploying stack to AWS Account 807388292768, Region = us-east-1.\n",
      "preview cloudformation stack at: https://us-east-1.console.aws.amazon.com/cloudformation/home?region=us-east-1#/stacks?filteringText=dynamodb-to-datalake&filteringStatus=active&viewNested=true\n"
     ]
    },
    {
     "name": "stderr",
     "output_type": "stream",
     "text": [
      "\n",
      "✨  Synthesis time: 4.02s\n",
      "\n",
      "dynamodb-to-datalake:  start: Building e78d5deff8a7fcfdbcf01e98f1c6026c8b041df14a6c1f2efa1d334a5ef12bf2:current_account-current_region\n",
      "dynamodb-to-datalake:  success: Built e78d5deff8a7fcfdbcf01e98f1c6026c8b041df14a6c1f2efa1d334a5ef12bf2:current_account-current_region\n",
      "dynamodb-to-datalake:  start: Publishing e78d5deff8a7fcfdbcf01e98f1c6026c8b041df14a6c1f2efa1d334a5ef12bf2:current_account-current_region\n",
      "dynamodb-to-datalake:  success: Published e78d5deff8a7fcfdbcf01e98f1c6026c8b041df14a6c1f2efa1d334a5ef12bf2:current_account-current_region\n",
      "\u001b[1mDynamoDBtoDataLakeStack (dynamodb-to-datalake)\u001b[22m: deploying... [1/1]\n",
      "\u001b[1mdynamodb-to-datalake\u001b[22m: creating CloudFormation changeset...\n",
      "dynamodb-to-datalake | 0/4 | 6:11:58 PM | \u001b[0mREVIEW_IN_PROGRESS  \u001b[0m | AWS::CloudFormation::Stack | \u001b[0m\u001b[1mdynamodb-to-datalake\u001b[22m\u001b[0m \u001b[36m\u001b[1mUser Initiated\u001b[22m\u001b[39m\n",
      "dynamodb-to-datalake | 0/4 | 6:12:04 PM | \u001b[0mCREATE_IN_PROGRESS  \u001b[0m | AWS::CloudFormation::Stack | \u001b[0m\u001b[1mdynamodb-to-datalake\u001b[22m\u001b[0m \u001b[36m\u001b[1mUser Initiated\u001b[22m\u001b[39m\n",
      "dynamodb-to-datalake | 0/4 | 6:12:07 PM | \u001b[0mCREATE_IN_PROGRESS  \u001b[0m | AWS::IAM::Role     | \u001b[0m\u001b[1mDynamoDBtoDataLakeStack/GlueRole\u001b[22m\u001b[0m (GlueRoleDEDFFD2C) \n",
      "dynamodb-to-datalake | 0/4 | 6:12:07 PM | \u001b[0mCREATE_IN_PROGRESS  \u001b[0m | AWS::CDK::Metadata | \u001b[0m\u001b[1mDynamoDBtoDataLakeStack/CDKMetadata/Default\u001b[22m\u001b[0m (CDKMetadata) \n",
      "dynamodb-to-datalake | 0/4 | 6:12:07 PM | \u001b[0mCREATE_IN_PROGRESS  \u001b[0m | AWS::IAM::Role     | \u001b[0m\u001b[1mDynamoDBtoDataLakeStack/LambdaRole\u001b[22m\u001b[0m (LambdaRole3A44B857) \n",
      "dynamodb-to-datalake | 0/4 | 6:12:07 PM | \u001b[0mCREATE_IN_PROGRESS  \u001b[0m | AWS::IAM::Role     | \u001b[0m\u001b[1mDynamoDBtoDataLakeStack/GlueRole\u001b[22m\u001b[0m (GlueRoleDEDFFD2C) \u001b[36m\u001b[1mResource creation Initiated\u001b[22m\u001b[39m\n",
      "dynamodb-to-datalake | 0/4 | 6:12:07 PM | \u001b[0mCREATE_IN_PROGRESS  \u001b[0m | AWS::IAM::Role     | \u001b[0m\u001b[1mDynamoDBtoDataLakeStack/LambdaRole\u001b[22m\u001b[0m (LambdaRole3A44B857) \u001b[36m\u001b[1mResource creation Initiated\u001b[22m\u001b[39m\n",
      "dynamodb-to-datalake | 0/4 | 6:12:08 PM | \u001b[0mCREATE_IN_PROGRESS  \u001b[0m | AWS::CDK::Metadata | \u001b[0m\u001b[1mDynamoDBtoDataLakeStack/CDKMetadata/Default\u001b[22m\u001b[0m (CDKMetadata) \u001b[36m\u001b[1mResource creation Initiated\u001b[22m\u001b[39m\n",
      "dynamodb-to-datalake | 1/4 | 6:12:08 PM | \u001b[32mCREATE_COMPLETE     \u001b[39m | AWS::CDK::Metadata | \u001b[32m\u001b[1mDynamoDBtoDataLakeStack/CDKMetadata/Default\u001b[22m\u001b[39m (CDKMetadata) \n"
     ]
    },
    {
     "name": "stdout",
     "output_type": "stream",
     "text": [
      "arn:aws:cloudformation:us-east-1:807388292768:stack/dynamodb-to-datalake/6d28b390-356f-11ee-80c6-12d5765b30bf\n"
     ]
    },
    {
     "name": "stderr",
     "output_type": "stream",
     "text": [
      "dynamodb-to-datalake | 2/4 | 6:12:21 PM | \u001b[32mCREATE_COMPLETE     \u001b[39m | AWS::IAM::Role     | \u001b[32m\u001b[1mDynamoDBtoDataLakeStack/GlueRole\u001b[22m\u001b[39m (GlueRoleDEDFFD2C) \n",
      "dynamodb-to-datalake | 3/4 | 6:12:21 PM | \u001b[32mCREATE_COMPLETE     \u001b[39m | AWS::IAM::Role     | \u001b[32m\u001b[1mDynamoDBtoDataLakeStack/LambdaRole\u001b[22m\u001b[39m (LambdaRole3A44B857) \n",
      "dynamodb-to-datalake | 4/4 | 6:12:22 PM | \u001b[32mCREATE_COMPLETE     \u001b[39m | AWS::CloudFormation::Stack | \u001b[32m\u001b[1mdynamodb-to-datalake\u001b[22m\u001b[39m \n",
      "\u001b[32m\u001b[39m\n",
      "\u001b[32m ✅  DynamoDBtoDataLakeStack (dynamodb-to-datalake)\u001b[39m\n",
      "\n",
      "✨  Deployment time: 27.17s\n",
      "\n",
      "Stack ARN:\n",
      "\n",
      "✨  Total time: 31.18s\n",
      "\n",
      "\n"
     ]
    }
   ],
   "source": [
    "dynamodb_to_datalake.cdk_deploy_1_iam_role()"
   ]
  },
  {
   "cell_type": "markdown",
   "id": "2fef0310-f705-4b8b-8823-e18ccda8121a",
   "metadata": {},
   "source": [
    "## Deploy the Solution via CDK - Solution Resources\n",
    "\n",
    "- DynamoDB Table\n",
    "- Lambda Functions\n",
    "- Glue Catalog\n",
    "- Glue Jobs"
   ]
  },
  {
   "cell_type": "code",
   "execution_count": 3,
   "id": "f23f3748-78b9-4961-bf7b-08e9eaaa098f",
   "metadata": {},
   "outputs": [
    {
     "name": "stdout",
     "output_type": "stream",
     "text": [
      "🚀 You are deploying stack to AWS Account 807388292768, Region = us-east-1.\n",
      "preview cloudformation stack at: https://us-east-1.console.aws.amazon.com/cloudformation/home?region=us-east-1#/stacks?filteringText=dynamodb-to-datalake&filteringStatus=active&viewNested=true\n",
      "  adding: dynamodb_stream_consumer.py (deflated 60%)\n",
      "  adding: dynamodb_export_to_s3_post_processor_coordinator.py (deflated 56%)\n",
      "  adding: dynamodb_export_to_s3_post_processor_worker.py (deflated 62%)\n"
     ]
    },
    {
     "name": "stderr",
     "output_type": "stream",
     "text": [
      "\n",
      "✨  Synthesis time: 4.82s\n",
      "\n",
      "dynamodb-to-datalake:  start: Building 0372703c9929ab3082bda58f40ea9c03916db1507feb0853e03029af6ec5700c:current_account-current_region\n",
      "dynamodb-to-datalake:  success: Built 0372703c9929ab3082bda58f40ea9c03916db1507feb0853e03029af6ec5700c:current_account-current_region\n",
      "dynamodb-to-datalake:  start: Publishing 0372703c9929ab3082bda58f40ea9c03916db1507feb0853e03029af6ec5700c:current_account-current_region\n",
      "dynamodb-to-datalake:  success: Published 0372703c9929ab3082bda58f40ea9c03916db1507feb0853e03029af6ec5700c:current_account-current_region\n",
      "\u001b[1mDynamoDBtoDataLakeStack (dynamodb-to-datalake)\u001b[22m: deploying... [1/1]\n",
      "\u001b[1mdynamodb-to-datalake\u001b[22m: creating CloudFormation changeset...\n",
      "dynamodb-to-datalake |  0/17 | 6:17:35 PM | \u001b[0mUPDATE_IN_PROGRESS  \u001b[0m | AWS::CloudFormation::Stack      | \u001b[0m\u001b[1mdynamodb-to-datalake\u001b[22m\u001b[0m \u001b[36m\u001b[1mUser Initiated\u001b[22m\u001b[39m\n",
      "dynamodb-to-datalake |  0/17 | 6:17:39 PM | \u001b[0mCREATE_IN_PROGRESS  \u001b[0m | AWS::IAM::Role                  | \u001b[0m\u001b[1mDynamoDBtoDataLakeStack/BucketNotificationsHandler050a0587b7544547bf325f094a3db834/Role\u001b[22m\u001b[0m (BucketNotificationsHandler050a0587b7544547bf325f094a3db834RoleB6FB88EC) \n",
      "dynamodb-to-datalake |  0/17 | 6:17:39 PM | \u001b[0mCREATE_IN_PROGRESS  \u001b[0m | AWS::DynamoDB::Table            | \u001b[0m\u001b[1mDynamoDBtoDataLakeStack/DynamodbTableTransactions\u001b[22m\u001b[0m (DynamodbTableTransactions6C83D4B2) \n",
      "dynamodb-to-datalake |  0/17 | 6:17:39 PM | \u001b[0mCREATE_IN_PROGRESS  \u001b[0m | AWS::Glue::Database             | \u001b[0m\u001b[1mDynamoDBtoDataLakeStack/GlueDatabase\u001b[22m\u001b[0m (GlueDatabase) \n",
      "dynamodb-to-datalake |  0/17 | 6:17:39 PM | \u001b[0mCREATE_IN_PROGRESS  \u001b[0m | AWS::Glue::Job                  | \u001b[0m\u001b[1mDynamoDBtoDataLakeStack/GlueJobInitialLoad\u001b[22m\u001b[0m (GlueJobInitialLoad) \n",
      "dynamodb-to-datalake |  0/17 | 6:17:39 PM | \u001b[0mCREATE_IN_PROGRESS  \u001b[0m | AWS::Glue::Job                  | \u001b[0m\u001b[1mDynamoDBtoDataLakeStack/GlueJobIncremental\u001b[22m\u001b[0m (GlueJobIncremental) \n",
      "dynamodb-to-datalake |  0/17 | 6:17:39 PM | \u001b[0mCREATE_IN_PROGRESS  \u001b[0m | AWS::IAM::Role                  | \u001b[0m\u001b[1mDynamoDBtoDataLakeStack/BucketNotificationsHandler050a0587b7544547bf325f094a3db834/Role\u001b[22m\u001b[0m (BucketNotificationsHandler050a0587b7544547bf325f094a3db834RoleB6FB88EC) \u001b[36m\u001b[1mResource creation Initiated\u001b[22m\u001b[39m\n",
      "dynamodb-to-datalake |  0/17 | 6:17:40 PM | \u001b[0mUPDATE_IN_PROGRESS  \u001b[0m | AWS::CDK::Metadata              | \u001b[0m\u001b[1mDynamoDBtoDataLakeStack/CDKMetadata/Default\u001b[22m\u001b[0m (CDKMetadata) \n",
      "dynamodb-to-datalake |  0/17 | 6:17:40 PM | \u001b[0mCREATE_IN_PROGRESS  \u001b[0m | AWS::Glue::Database             | \u001b[0m\u001b[1mDynamoDBtoDataLakeStack/GlueDatabase\u001b[22m\u001b[0m (GlueDatabase) \u001b[36m\u001b[1mResource creation Initiated\u001b[22m\u001b[39m\n",
      "dynamodb-to-datalake |  1/17 | 6:17:40 PM | \u001b[32mCREATE_COMPLETE     \u001b[39m | AWS::Glue::Database             | \u001b[32m\u001b[1mDynamoDBtoDataLakeStack/GlueDatabase\u001b[22m\u001b[39m (GlueDatabase) \n",
      "dynamodb-to-datalake |  1/17 | 6:17:41 PM | \u001b[0mCREATE_IN_PROGRESS  \u001b[0m | AWS::Glue::Job                  | \u001b[0m\u001b[1mDynamoDBtoDataLakeStack/GlueJobIncremental\u001b[22m\u001b[0m (GlueJobIncremental) \u001b[36m\u001b[1mResource creation Initiated\u001b[22m\u001b[39m\n",
      "dynamodb-to-datalake |  1/17 | 6:17:41 PM | \u001b[0mCREATE_IN_PROGRESS  \u001b[0m | AWS::DynamoDB::Table            | \u001b[0m\u001b[1mDynamoDBtoDataLakeStack/DynamodbTableTransactions\u001b[22m\u001b[0m (DynamodbTableTransactions6C83D4B2) \u001b[36m\u001b[1mResource creation Initiated\u001b[22m\u001b[39m\n",
      "dynamodb-to-datalake |  2/17 | 6:17:41 PM | \u001b[32mUPDATE_COMPLETE     \u001b[39m | AWS::CDK::Metadata              | \u001b[32m\u001b[1mDynamoDBtoDataLakeStack/CDKMetadata/Default\u001b[22m\u001b[39m (CDKMetadata) \n",
      "dynamodb-to-datalake |  2/17 | 6:17:41 PM | \u001b[0mCREATE_IN_PROGRESS  \u001b[0m | AWS::Glue::Job                  | \u001b[0m\u001b[1mDynamoDBtoDataLakeStack/GlueJobInitialLoad\u001b[22m\u001b[0m (GlueJobInitialLoad) \u001b[36m\u001b[1mResource creation Initiated\u001b[22m\u001b[39m\n",
      "dynamodb-to-datalake |  3/17 | 6:17:41 PM | \u001b[32mCREATE_COMPLETE     \u001b[39m | AWS::Glue::Job                  | \u001b[32m\u001b[1mDynamoDBtoDataLakeStack/GlueJobIncremental\u001b[22m\u001b[39m (GlueJobIncremental) \n",
      "dynamodb-to-datalake |  4/17 | 6:17:41 PM | \u001b[32mCREATE_COMPLETE     \u001b[39m | AWS::Glue::Job                  | \u001b[32m\u001b[1mDynamoDBtoDataLakeStack/GlueJobInitialLoad\u001b[22m\u001b[39m (GlueJobInitialLoad) \n",
      "dynamodb-to-datalake |  5/17 | 6:17:53 PM | \u001b[32mCREATE_COMPLETE     \u001b[39m | AWS::IAM::Role                  | \u001b[32m\u001b[1mDynamoDBtoDataLakeStack/BucketNotificationsHandler050a0587b7544547bf325f094a3db834/Role\u001b[22m\u001b[39m (BucketNotificationsHandler050a0587b7544547bf325f094a3db834RoleB6FB88EC) \n",
      "dynamodb-to-datalake |  5/17 | 6:17:54 PM | \u001b[0mCREATE_IN_PROGRESS  \u001b[0m | AWS::IAM::Policy                | \u001b[0m\u001b[1mDynamoDBtoDataLakeStack/BucketNotificationsHandler050a0587b7544547bf325f094a3db834/Role/DefaultPolicy\u001b[22m\u001b[0m (BucketNotificationsHandler050a0587b7544547bf325f094a3db834RoleDefaultPolicy2CF63D36) \n",
      "dynamodb-to-datalake |  5/17 | 6:17:55 PM | \u001b[0mCREATE_IN_PROGRESS  \u001b[0m | AWS::IAM::Policy                | \u001b[0m\u001b[1mDynamoDBtoDataLakeStack/BucketNotificationsHandler050a0587b7544547bf325f094a3db834/Role/DefaultPolicy\u001b[22m\u001b[0m (BucketNotificationsHandler050a0587b7544547bf325f094a3db834RoleDefaultPolicy2CF63D36) \u001b[36m\u001b[1mResource creation Initiated\u001b[22m\u001b[39m\n",
      "dynamodb-to-datalake |  6/17 | 6:18:02 PM | \u001b[32mCREATE_COMPLETE     \u001b[39m | AWS::DynamoDB::Table            | \u001b[32m\u001b[1mDynamoDBtoDataLakeStack/DynamodbTableTransactions\u001b[22m\u001b[39m (DynamodbTableTransactions6C83D4B2) \n",
      "dynamodb-to-datalake |  6/17 | 6:18:04 PM | \u001b[0mCREATE_IN_PROGRESS  \u001b[0m | AWS::IAM::Policy                | \u001b[0m\u001b[1mDynamoDBtoDataLakeStack/LambdaRole/DefaultPolicy\u001b[22m\u001b[0m (LambdaRoleDefaultPolicy75625A82) \n",
      "dynamodb-to-datalake |  6/17 | 6:18:05 PM | \u001b[0mCREATE_IN_PROGRESS  \u001b[0m | AWS::IAM::Policy                | \u001b[0m\u001b[1mDynamoDBtoDataLakeStack/LambdaRole/DefaultPolicy\u001b[22m\u001b[0m (LambdaRoleDefaultPolicy75625A82) \u001b[36m\u001b[1mResource creation Initiated\u001b[22m\u001b[39m\n",
      "dynamodb-to-datalake |  7/17 | 6:18:11 PM | \u001b[32mCREATE_COMPLETE     \u001b[39m | AWS::IAM::Policy                | \u001b[32m\u001b[1mDynamoDBtoDataLakeStack/BucketNotificationsHandler050a0587b7544547bf325f094a3db834/Role/DefaultPolicy\u001b[22m\u001b[39m (BucketNotificationsHandler050a0587b7544547bf325f094a3db834RoleDefaultPolicy2CF63D36) \n",
      "dynamodb-to-datalake |  7/17 | 6:18:12 PM | \u001b[0mCREATE_IN_PROGRESS  \u001b[0m | AWS::Lambda::Function           | \u001b[0m\u001b[1mDynamoDBtoDataLakeStack/BucketNotificationsHandler050a0587b7544547bf325f094a3db834\u001b[22m\u001b[0m (BucketNotificationsHandler050a0587b7544547bf325f094a3db8347ECC3691) \n",
      "dynamodb-to-datalake |  7/17 | 6:18:13 PM | \u001b[0mCREATE_IN_PROGRESS  \u001b[0m | AWS::Lambda::Function           | \u001b[0m\u001b[1mDynamoDBtoDataLakeStack/BucketNotificationsHandler050a0587b7544547bf325f094a3db834\u001b[22m\u001b[0m (BucketNotificationsHandler050a0587b7544547bf325f094a3db8347ECC3691) \u001b[36m\u001b[1mResource creation Initiated\u001b[22m\u001b[39m\n",
      "dynamodb-to-datalake |  8/17 | 6:18:19 PM | \u001b[32mCREATE_COMPLETE     \u001b[39m | AWS::Lambda::Function           | \u001b[32m\u001b[1mDynamoDBtoDataLakeStack/BucketNotificationsHandler050a0587b7544547bf325f094a3db834\u001b[22m\u001b[39m (BucketNotificationsHandler050a0587b7544547bf325f094a3db8347ECC3691) \n",
      "dynamodb-to-datalake |  9/17 | 6:18:21 PM | \u001b[32mCREATE_COMPLETE     \u001b[39m | AWS::IAM::Policy                | \u001b[32m\u001b[1mDynamoDBtoDataLakeStack/LambdaRole/DefaultPolicy\u001b[22m\u001b[39m (LambdaRoleDefaultPolicy75625A82) \n",
      "dynamodb-to-datalake |  9/17 | 6:18:21 PM | \u001b[0mCREATE_IN_PROGRESS  \u001b[0m | AWS::Lambda::Function           | \u001b[0m\u001b[1mDynamoDBtoDataLakeStack/LambdaFunctionDynamoDBExportToS3PostProcessorWorker\u001b[22m\u001b[0m (LambdaFunctionDynamoDBExportToS3PostProcessorWorker96120804) \n",
      "dynamodb-to-datalake |  9/17 | 6:18:21 PM | \u001b[0mCREATE_IN_PROGRESS  \u001b[0m | AWS::Lambda::Function           | \u001b[0m\u001b[1mDynamoDBtoDataLakeStack/LambdaFunctionDynamoDBExportToS3PostProcessorCoordinator\u001b[22m\u001b[0m (LambdaFunctionDynamoDBExportToS3PostProcessorCoordinator45543E67) \n",
      "dynamodb-to-datalake |  9/17 | 6:18:21 PM | \u001b[0mCREATE_IN_PROGRESS  \u001b[0m | AWS::Lambda::Function           | \u001b[0m\u001b[1mDynamoDBtoDataLakeStack/LambdaFunctionDynamoDBStreamConsumer\u001b[22m\u001b[0m (LambdaFunctionDynamoDBStreamConsumer86247423) \n",
      "dynamodb-to-datalake |  9/17 | 6:18:22 PM | \u001b[0mCREATE_IN_PROGRESS  \u001b[0m | AWS::Lambda::Function           | \u001b[0m\u001b[1mDynamoDBtoDataLakeStack/LambdaFunctionDynamoDBStreamConsumer\u001b[22m\u001b[0m (LambdaFunctionDynamoDBStreamConsumer86247423) \u001b[36m\u001b[1mResource creation Initiated\u001b[22m\u001b[39m\n",
      "dynamodb-to-datalake |  9/17 | 6:18:22 PM | \u001b[0mCREATE_IN_PROGRESS  \u001b[0m | AWS::Lambda::Function           | \u001b[0m\u001b[1mDynamoDBtoDataLakeStack/LambdaFunctionDynamoDBExportToS3PostProcessorWorker\u001b[22m\u001b[0m (LambdaFunctionDynamoDBExportToS3PostProcessorWorker96120804) \u001b[36m\u001b[1mResource creation Initiated\u001b[22m\u001b[39m\n",
      "dynamodb-to-datalake |  9/17 | 6:18:22 PM | \u001b[0mCREATE_IN_PROGRESS  \u001b[0m | AWS::Lambda::Function           | \u001b[0m\u001b[1mDynamoDBtoDataLakeStack/LambdaFunctionDynamoDBExportToS3PostProcessorCoordinator\u001b[22m\u001b[0m (LambdaFunctionDynamoDBExportToS3PostProcessorCoordinator45543E67) \u001b[36m\u001b[1mResource creation Initiated\u001b[22m\u001b[39m\n",
      "dynamodb-to-datalake | 10/17 | 6:18:30 PM | \u001b[32mCREATE_COMPLETE     \u001b[39m | AWS::Lambda::Function           | \u001b[32m\u001b[1mDynamoDBtoDataLakeStack/LambdaFunctionDynamoDBExportToS3PostProcessorWorker\u001b[22m\u001b[39m (LambdaFunctionDynamoDBExportToS3PostProcessorWorker96120804) \n",
      "dynamodb-to-datalake | 11/17 | 6:18:30 PM | \u001b[32mCREATE_COMPLETE     \u001b[39m | AWS::Lambda::Function           | \u001b[32m\u001b[1mDynamoDBtoDataLakeStack/LambdaFunctionDynamoDBStreamConsumer\u001b[22m\u001b[39m (LambdaFunctionDynamoDBStreamConsumer86247423) \n",
      "dynamodb-to-datalake | 12/17 | 6:18:30 PM | \u001b[32mCREATE_COMPLETE     \u001b[39m | AWS::Lambda::Function           | \u001b[32m\u001b[1mDynamoDBtoDataLakeStack/LambdaFunctionDynamoDBExportToS3PostProcessorCoordinator\u001b[22m\u001b[39m (LambdaFunctionDynamoDBExportToS3PostProcessorCoordinator45543E67) \n",
      "dynamodb-to-datalake | 12/17 | 6:18:30 PM | \u001b[0mCREATE_IN_PROGRESS  \u001b[0m | AWS::Lambda::EventSourceMapping | \u001b[0m\u001b[1mDynamoDBtoDataLakeStack/LambdaFunctionDynamoDBStreamConsumer/DynamoDBEventSource:DynamoDBtoDataLakeStackDynamodbTableTransactions03478CA8\u001b[22m\u001b[0m (LambdaFunctionDynamoDBStreamConsumerDynamoDBEventSourceDynamoDBtoDataLakeStackDynamodbTableTransactions03478CA81667278A) \n",
      "dynamodb-to-datalake | 12/17 | 6:18:31 PM | \u001b[0mCREATE_IN_PROGRESS  \u001b[0m | AWS::Lambda::Permission         | \u001b[0m\u001b[1mDynamoDBtoDataLakeStack/S3BucketData/AllowBucketNotificationsToDynamoDBtoDataLakeStackLambdaFunctionDynamoDBExportToS3PostProcessorCoordinator39A52B5E\u001b[22m\u001b[0m (S3BucketDataAllowBucketNotificationsToDynamoDBtoDataLakeStackLambdaFunctionDynamoDBExportToS3PostProcessorCoordinator39A52B5EFF51391B) \n",
      "dynamodb-to-datalake | 12/17 | 6:18:32 PM | \u001b[0mCREATE_IN_PROGRESS  \u001b[0m | AWS::Lambda::Permission         | \u001b[0m\u001b[1mDynamoDBtoDataLakeStack/S3BucketData/AllowBucketNotificationsToDynamoDBtoDataLakeStackLambdaFunctionDynamoDBExportToS3PostProcessorCoordinator39A52B5E\u001b[22m\u001b[0m (S3BucketDataAllowBucketNotificationsToDynamoDBtoDataLakeStackLambdaFunctionDynamoDBExportToS3PostProcessorCoordinator39A52B5EFF51391B) \u001b[36m\u001b[1mResource creation Initiated\u001b[22m\u001b[39m\n",
      "dynamodb-to-datalake | 13/17 | 6:18:32 PM | \u001b[32mCREATE_COMPLETE     \u001b[39m | AWS::Lambda::Permission         | \u001b[32m\u001b[1mDynamoDBtoDataLakeStack/S3BucketData/AllowBucketNotificationsToDynamoDBtoDataLakeStackLambdaFunctionDynamoDBExportToS3PostProcessorCoordinator39A52B5E\u001b[22m\u001b[39m (S3BucketDataAllowBucketNotificationsToDynamoDBtoDataLakeStackLambdaFunctionDynamoDBExportToS3PostProcessorCoordinator39A52B5EFF51391B) \n",
      "dynamodb-to-datalake | 13/17 | 6:18:32 PM | \u001b[0mCREATE_IN_PROGRESS  \u001b[0m | AWS::Lambda::EventSourceMapping | \u001b[0m\u001b[1mDynamoDBtoDataLakeStack/LambdaFunctionDynamoDBStreamConsumer/DynamoDBEventSource:DynamoDBtoDataLakeStackDynamodbTableTransactions03478CA8\u001b[22m\u001b[0m (LambdaFunctionDynamoDBStreamConsumerDynamoDBEventSourceDynamoDBtoDataLakeStackDynamodbTableTransactions03478CA81667278A) \u001b[36m\u001b[1mResource creation Initiated\u001b[22m\u001b[39m\n",
      "dynamodb-to-datalake | 14/17 | 6:18:32 PM | \u001b[32mCREATE_COMPLETE     \u001b[39m | AWS::Lambda::EventSourceMapping | \u001b[32m\u001b[1mDynamoDBtoDataLakeStack/LambdaFunctionDynamoDBStreamConsumer/DynamoDBEventSource:DynamoDBtoDataLakeStackDynamodbTableTransactions03478CA8\u001b[22m\u001b[39m (LambdaFunctionDynamoDBStreamConsumerDynamoDBEventSourceDynamoDBtoDataLakeStackDynamodbTableTransactions03478CA81667278A) \n",
      "dynamodb-to-datalake | 14/17 | 6:18:33 PM | \u001b[0mCREATE_IN_PROGRESS  \u001b[0m | Custom::S3BucketNotifications   | \u001b[0m\u001b[1mDynamoDBtoDataLakeStack/S3BucketData/Notifications\u001b[22m\u001b[0m (S3BucketDataNotifications18A0ABEA) \n",
      "dynamodb-to-datalake | 14/17 | 6:18:36 PM | \u001b[0mCREATE_IN_PROGRESS  \u001b[0m | Custom::S3BucketNotifications   | \u001b[0m\u001b[1mDynamoDBtoDataLakeStack/S3BucketData/Notifications\u001b[22m\u001b[0m (S3BucketDataNotifications18A0ABEA) \u001b[36m\u001b[1mResource creation Initiated\u001b[22m\u001b[39m\n",
      "dynamodb-to-datalake | 15/17 | 6:18:36 PM | \u001b[32mCREATE_COMPLETE     \u001b[39m | Custom::S3BucketNotifications   | \u001b[32m\u001b[1mDynamoDBtoDataLakeStack/S3BucketData/Notifications\u001b[22m\u001b[39m (S3BucketDataNotifications18A0ABEA) \n"
     ]
    },
    {
     "name": "stdout",
     "output_type": "stream",
     "text": [
      "arn:aws:cloudformation:us-east-1:807388292768:stack/dynamodb-to-datalake/6d28b390-356f-11ee-80c6-12d5765b30bf\n"
     ]
    },
    {
     "name": "stderr",
     "output_type": "stream",
     "text": [
      "dynamodb-to-datalake | 16/17 | 6:18:37 PM | \u001b[32mUPDATE_COMPLETE_CLEA\u001b[39m | AWS::CloudFormation::Stack      | \u001b[32m\u001b[1mdynamodb-to-datalake\u001b[22m\u001b[39m \n",
      "dynamodb-to-datalake | 17/17 | 6:18:38 PM | \u001b[32mUPDATE_COMPLETE     \u001b[39m | AWS::CloudFormation::Stack      | \u001b[32m\u001b[1mdynamodb-to-datalake\u001b[22m\u001b[39m \n",
      "\u001b[32m\u001b[39m\n",
      "\u001b[32m ✅  DynamoDBtoDataLakeStack (dynamodb-to-datalake)\u001b[39m\n",
      "\n",
      "✨  Deployment time: 73.53s\n",
      "\n",
      "Stack ARN:\n",
      "\n",
      "✨  Total time: 78.36s\n",
      "\n",
      "\n"
     ]
    }
   ],
   "source": [
    "dynamodb_to_datalake.cdk_deploy_2_everything()"
   ]
  },
  {
   "cell_type": "markdown",
   "id": "322baaba-609b-4314-b348-04dde2034ae5",
   "metadata": {},
   "source": [
    "## Run Data Faker Program\n",
    "\n",
    "- Generate 60 events / second\n",
    "- 70% are insert, 30% are update"
   ]
  },
  {
   "cell_type": "code",
   "execution_count": 2,
   "id": "593eefca-a097-4d85-bd1d-5ca21718e5a2",
   "metadata": {},
   "outputs": [
    {
     "name": "stdout",
     "output_type": "stream",
     "text": [
      "Simulate 1 ith event: insert {'account': '259-142-8436', 'create_at': '2023-08-07T22:39:23.750911+00:00', 'update_at': '2023-08-07T22:39:23.750911+00:00', 'entity': 'Hendrix-Brewer', 'amount': 606, 'is_credit': 0, 'note': 'Executive Congress wait expect laugh party.'}\n",
      "Simulate 2 ith event: insert {'account': '263-340-4339', 'create_at': '2023-08-07T22:39:25.239092+00:00', 'update_at': '2023-08-07T22:39:25.239092+00:00', 'entity': 'Fleming and Sons', 'amount': 169, 'is_credit': 1, 'note': 'Nation amount either major.'}\n",
      "Simulate 3 ith event: insert {'account': '097-681-0802', 'create_at': '2023-08-07T22:39:25.789062+00:00', 'update_at': '2023-08-07T22:39:25.789062+00:00', 'entity': 'Evans-Henderson', 'amount': 945, 'is_credit': 1, 'note': 'Necessary already write mission bit.'}\n",
      "Simulate 4 ith event: update {'account': '263-340-4339', 'create_at': '2023-08-07T22:39:25.239092+00:00', 'update_at': '2023-08-07T22:39:27.316420+00:00', 'entity': 'Fleming and Sons', 'amount': 169, 'is_credit': 1, 'note': 'Family information situation cell control.'}\n",
      "Simulate 5 ith event: insert {'account': '598-227-1492', 'create_at': '2023-08-07T22:39:27.862703+00:00', 'update_at': '2023-08-07T22:39:27.862703+00:00', 'entity': 'Burke-Jackson', 'amount': 944, 'is_credit': 0, 'note': 'Think act cold word development eat.'}\n",
      "Simulate 6 ith event: update {'account': '598-227-1492', 'create_at': '2023-08-07T22:39:27.862703+00:00', 'update_at': '2023-08-07T22:39:29.050231+00:00', 'entity': 'Burke-Jackson', 'amount': 944, 'is_credit': 0, 'note': 'Maintain successful she.'}\n",
      "Simulate 7 ith event: insert {'account': '236-647-8681', 'create_at': '2023-08-07T22:39:29.598132+00:00', 'update_at': '2023-08-07T22:39:29.598132+00:00', 'entity': 'Jordan and Sons', 'amount': 266, 'is_credit': 1, 'note': 'Upon total office.'}\n",
      "Simulate 8 ith event: update {'account': '598-227-1492', 'create_at': '2023-08-07T22:39:27.862703+00:00', 'update_at': '2023-08-07T22:39:30.213442+00:00', 'entity': 'Burke-Jackson', 'amount': 944, 'is_credit': 0, 'note': 'Successful week service finally these.'}\n",
      "Simulate 9 ith event: insert {'account': '391-200-2475', 'create_at': '2023-08-07T22:39:31.116175+00:00', 'update_at': '2023-08-07T22:39:31.116175+00:00', 'entity': 'Patterson LLC', 'amount': 444, 'is_credit': 1, 'note': 'Sign by at number.'}\n",
      "Simulate 10 ith event: insert {'account': '051-356-5544', 'create_at': '2023-08-07T22:39:31.915967+00:00', 'update_at': '2023-08-07T22:39:31.915967+00:00', 'entity': 'Dawson-Hall', 'amount': 839, 'is_credit': 0, 'note': 'Use goal experience tree.'}\n",
      "...\n"
     ]
    }
   ],
   "source": [
    "dynamodb_to_datalake.run_data_faker(sleep_millisecond=10)"
   ]
  },
  {
   "cell_type": "markdown",
   "id": "63c4241d-243a-4c5c-9385-bab028f8f6f1",
   "metadata": {},
   "source": [
    "## Preview the DynamoDB Stream Export\n",
    "\n",
    "Scroll up to \"Show Project Related Information\" check the ``s3dir_dynamodb_stream`` console url."
   ]
  },
  {
   "cell_type": "markdown",
   "id": "8d7055f1-8b5f-4818-97f6-977fcbf5cf2b",
   "metadata": {},
   "source": [
    "## Export DynamoDB Initial Load to S3\n",
    "\n",
    "- Export the point-in-time snapshot of DynamoDB to S3\n",
    "- Lambda function will be automatically triggered to transform the export data into ETL Job friendly format."
   ]
  },
  {
   "cell_type": "code",
   "execution_count": null,
   "id": "0bb338c7-6692-4600-98e0-6c5e9ebba8f1",
   "metadata": {},
   "outputs": [],
   "source": [
    "dynamodb_to_datalake.export_dynamodb_to_s3()"
   ]
  },
  {
   "cell_type": "markdown",
   "id": "0acdfeca-61f5-4abd-948b-025bee16dcd7",
   "metadata": {},
   "source": [
    "## Run Initial Load Glue Job\n",
    "\n",
    "Create the glue catalog table and write initial load (point-in-time snapshot of DynamoDB) to the Datalake."
   ]
  },
  {
   "cell_type": "code",
   "execution_count": 2,
   "id": "5d99dabe-c28b-4fa9-a767-48b6b5eed905",
   "metadata": {},
   "outputs": [
    {
     "name": "stdout",
     "output_type": "stream",
     "text": [
      "run initial load glue job 'dynamodb_to_datalake_initial_load'\n",
      "preview the job run status at: https://us-east-1.console.aws.amazon.com/gluestudio/home?region=us-east-1#/editor/job/dynamodb_to_datalake_initial_load/script\n"
     ]
    }
   ],
   "source": [
    "dynamodb_to_datalake.run_initial_load_glue_job()"
   ]
  },
  {
   "cell_type": "code",
   "execution_count": 2,
   "id": "cfeb7bbb-bfb8-47cb-bd68-2794585ad72b",
   "metadata": {},
   "outputs": [
    {
     "name": "stdout",
     "output_type": "stream",
     "text": [
      "preview hudi table 'dynamodb_to_datalake.transactions'\n",
      "n_rows = 414\n",
      "preview data: file:///Users/sanhehu/Documents/GitHub/dynamodb_to_datalake-project/query_result.csv\n"
     ]
    },
    {
     "data": {
      "text/html": [
       "<div><style>\n",
       ".dataframe > thead > tr > th,\n",
       ".dataframe > tbody > tr > td {\n",
       "  text-align: right;\n",
       "}\n",
       "</style>\n",
       "<small>shape: (10, 18)</small><table border=\"1\" class=\"dataframe\"><thead><tr><th>_hoodie_commit_time</th><th>_hoodie_commit_seqno</th><th>_hoodie_record_key</th><th>_hoodie_partition_path</th><th>_hoodie_file_name</th><th>account</th><th>create_at</th><th>update_at</th><th>entity</th><th>amount</th><th>is_credit</th><th>note</th><th>id</th><th>create_year</th><th>create_month</th><th>create_day</th><th>create_hour</th><th>create_minute</th></tr><tr><td>i64</td><td>str</td><td>str</td><td>str</td><td>str</td><td>str</td><td>str</td><td>str</td><td>str</td><td>i64</td><td>i64</td><td>str</td><td>str</td><td>i64</td><td>i64</td><td>i64</td><td>i64</td><td>i64</td></tr></thead><tbody><tr><td>20230808012711738</td><td>&quot;20230808012711…</td><td>&quot;id:account:051…</td><td>&quot;create_year=20…</td><td>&quot;65c47bc1-3e05-…</td><td>&quot;051-356-5544&quot;</td><td>&quot;2023-08-07T22:…</td><td>&quot;2023-08-07T22:…</td><td>&quot;Dawson-Hall&quot;</td><td>839</td><td>0</td><td>&quot;Use goal exper…</td><td>&quot;account:051-35…</td><td>2023</td><td>8</td><td>7</td><td>22</td><td>39</td></tr><tr><td>20230808012711738</td><td>&quot;20230808012711…</td><td>&quot;id:account:263…</td><td>&quot;create_year=20…</td><td>&quot;65c47bc1-3e05-…</td><td>&quot;263-340-4339&quot;</td><td>&quot;2023-08-07T22:…</td><td>&quot;2023-08-07T22:…</td><td>&quot;Fleming and So…</td><td>169</td><td>1</td><td>&quot;Family informa…</td><td>&quot;account:263-34…</td><td>2023</td><td>8</td><td>7</td><td>22</td><td>39</td></tr><tr><td>20230808012711738</td><td>&quot;20230808012711…</td><td>&quot;id:account:834…</td><td>&quot;create_year=20…</td><td>&quot;65c47bc1-3e05-…</td><td>&quot;834-943-2629&quot;</td><td>&quot;2023-08-07T22:…</td><td>&quot;2023-08-07T22:…</td><td>&quot;Macias, Hayes …</td><td>192</td><td>1</td><td>&quot;American would…</td><td>&quot;account:834-94…</td><td>2023</td><td>8</td><td>7</td><td>22</td><td>39</td></tr><tr><td>20230808012711738</td><td>&quot;20230808012711…</td><td>&quot;id:account:391…</td><td>&quot;create_year=20…</td><td>&quot;65c47bc1-3e05-…</td><td>&quot;391-200-2475&quot;</td><td>&quot;2023-08-07T22:…</td><td>&quot;2023-08-07T22:…</td><td>&quot;Patterson LLC&quot;</td><td>444</td><td>1</td><td>&quot;Sign by at num…</td><td>&quot;account:391-20…</td><td>2023</td><td>8</td><td>7</td><td>22</td><td>39</td></tr><tr><td>20230808012711738</td><td>&quot;20230808012711…</td><td>&quot;id:account:012…</td><td>&quot;create_year=20…</td><td>&quot;65c47bc1-3e05-…</td><td>&quot;012-769-8742&quot;</td><td>&quot;2023-08-07T22:…</td><td>&quot;2023-08-07T22:…</td><td>&quot;Rasmussen, Tuc…</td><td>921</td><td>1</td><td>&quot;Be lead listen…</td><td>&quot;account:012-76…</td><td>2023</td><td>8</td><td>7</td><td>22</td><td>39</td></tr><tr><td>20230808012711738</td><td>&quot;20230808012711…</td><td>&quot;id:account:259…</td><td>&quot;create_year=20…</td><td>&quot;65c47bc1-3e05-…</td><td>&quot;259-142-8436&quot;</td><td>&quot;2023-08-07T22:…</td><td>&quot;2023-08-07T22:…</td><td>&quot;Hendrix-Brewer…</td><td>606</td><td>0</td><td>&quot;Executive Cong…</td><td>&quot;account:259-14…</td><td>2023</td><td>8</td><td>7</td><td>22</td><td>39</td></tr><tr><td>20230808012711738</td><td>&quot;20230808012711…</td><td>&quot;id:account:236…</td><td>&quot;create_year=20…</td><td>&quot;65c47bc1-3e05-…</td><td>&quot;236-647-8681&quot;</td><td>&quot;2023-08-07T22:…</td><td>&quot;2023-08-07T22:…</td><td>&quot;Jordan and Son…</td><td>266</td><td>1</td><td>&quot;Upon total off…</td><td>&quot;account:236-64…</td><td>2023</td><td>8</td><td>7</td><td>22</td><td>39</td></tr><tr><td>20230808012711738</td><td>&quot;20230808012711…</td><td>&quot;id:account:598…</td><td>&quot;create_year=20…</td><td>&quot;65c47bc1-3e05-…</td><td>&quot;598-227-1492&quot;</td><td>&quot;2023-08-07T22:…</td><td>&quot;2023-08-07T22:…</td><td>&quot;Burke-Jackson&quot;</td><td>944</td><td>0</td><td>&quot;Successful wee…</td><td>&quot;account:598-22…</td><td>2023</td><td>8</td><td>7</td><td>22</td><td>39</td></tr><tr><td>20230808012711738</td><td>&quot;20230808012711…</td><td>&quot;id:account:097…</td><td>&quot;create_year=20…</td><td>&quot;65c47bc1-3e05-…</td><td>&quot;097-681-0802&quot;</td><td>&quot;2023-08-07T22:…</td><td>&quot;2023-08-07T22:…</td><td>&quot;Evans-Henderso…</td><td>945</td><td>1</td><td>&quot;Necessary alre…</td><td>&quot;account:097-68…</td><td>2023</td><td>8</td><td>7</td><td>22</td><td>39</td></tr><tr><td>20230808012711738</td><td>&quot;20230808012711…</td><td>&quot;id:account:351…</td><td>&quot;create_year=20…</td><td>&quot;3f006b90-5da7-…</td><td>&quot;351-942-1725&quot;</td><td>&quot;2023-08-07T22:…</td><td>&quot;2023-08-07T22:…</td><td>&quot;Morgan, Lamber…</td><td>737</td><td>1</td><td>&quot;Believe piece …</td><td>&quot;account:351-94…</td><td>2023</td><td>8</td><td>7</td><td>22</td><td>29</td></tr></tbody></table></div>"
      ],
      "text/plain": [
       "shape: (10, 18)\n",
       "┌───────────┬───────────┬───────────┬───────────┬───┬───────────┬───────────┬───────────┬──────────┐\n",
       "│ _hoodie_c ┆ _hoodie_c ┆ _hoodie_r ┆ _hoodie_p ┆ … ┆ create_mo ┆ create_da ┆ create_ho ┆ create_m │\n",
       "│ ommit_tim ┆ ommit_seq ┆ ecord_key ┆ artition_ ┆   ┆ nth       ┆ y         ┆ ur        ┆ inute    │\n",
       "│ e         ┆ no        ┆ ---       ┆ path      ┆   ┆ ---       ┆ ---       ┆ ---       ┆ ---      │\n",
       "│ ---       ┆ ---       ┆ str       ┆ ---       ┆   ┆ i64       ┆ i64       ┆ i64       ┆ i64      │\n",
       "│ i64       ┆ str       ┆           ┆ str       ┆   ┆           ┆           ┆           ┆          │\n",
       "╞═══════════╪═══════════╪═══════════╪═══════════╪═══╪═══════════╪═══════════╪═══════════╪══════════╡\n",
       "│ 202308080 ┆ 202308080 ┆ id:accoun ┆ create_ye ┆ … ┆ 8         ┆ 7         ┆ 22        ┆ 39       │\n",
       "│ 12711738  ┆ 12711738_ ┆ t:051-356 ┆ ar=2023/c ┆   ┆           ┆           ┆           ┆          │\n",
       "│           ┆ 0_0       ┆ -5544,cre ┆ reate_mon ┆   ┆           ┆           ┆           ┆          │\n",
       "│           ┆           ┆ ate_a…    ┆ th=08…    ┆   ┆           ┆           ┆           ┆          │\n",
       "│ 202308080 ┆ 202308080 ┆ id:accoun ┆ create_ye ┆ … ┆ 8         ┆ 7         ┆ 22        ┆ 39       │\n",
       "│ 12711738  ┆ 12711738_ ┆ t:263-340 ┆ ar=2023/c ┆   ┆           ┆           ┆           ┆          │\n",
       "│           ┆ 0_1       ┆ -4339,cre ┆ reate_mon ┆   ┆           ┆           ┆           ┆          │\n",
       "│           ┆           ┆ ate_a…    ┆ th=08…    ┆   ┆           ┆           ┆           ┆          │\n",
       "│ 202308080 ┆ 202308080 ┆ id:accoun ┆ create_ye ┆ … ┆ 8         ┆ 7         ┆ 22        ┆ 39       │\n",
       "│ 12711738  ┆ 12711738_ ┆ t:834-943 ┆ ar=2023/c ┆   ┆           ┆           ┆           ┆          │\n",
       "│           ┆ 0_2       ┆ -2629,cre ┆ reate_mon ┆   ┆           ┆           ┆           ┆          │\n",
       "│           ┆           ┆ ate_a…    ┆ th=08…    ┆   ┆           ┆           ┆           ┆          │\n",
       "│ 202308080 ┆ 202308080 ┆ id:accoun ┆ create_ye ┆ … ┆ 8         ┆ 7         ┆ 22        ┆ 39       │\n",
       "│ 12711738  ┆ 12711738_ ┆ t:391-200 ┆ ar=2023/c ┆   ┆           ┆           ┆           ┆          │\n",
       "│           ┆ 0_3       ┆ -2475,cre ┆ reate_mon ┆   ┆           ┆           ┆           ┆          │\n",
       "│           ┆           ┆ ate_a…    ┆ th=08…    ┆   ┆           ┆           ┆           ┆          │\n",
       "│ …         ┆ …         ┆ …         ┆ …         ┆ … ┆ …         ┆ …         ┆ …         ┆ …        │\n",
       "│ 202308080 ┆ 202308080 ┆ id:accoun ┆ create_ye ┆ … ┆ 8         ┆ 7         ┆ 22        ┆ 39       │\n",
       "│ 12711738  ┆ 12711738_ ┆ t:236-647 ┆ ar=2023/c ┆   ┆           ┆           ┆           ┆          │\n",
       "│           ┆ 0_6       ┆ -8681,cre ┆ reate_mon ┆   ┆           ┆           ┆           ┆          │\n",
       "│           ┆           ┆ ate_a…    ┆ th=08…    ┆   ┆           ┆           ┆           ┆          │\n",
       "│ 202308080 ┆ 202308080 ┆ id:accoun ┆ create_ye ┆ … ┆ 8         ┆ 7         ┆ 22        ┆ 39       │\n",
       "│ 12711738  ┆ 12711738_ ┆ t:598-227 ┆ ar=2023/c ┆   ┆           ┆           ┆           ┆          │\n",
       "│           ┆ 0_7       ┆ -1492,cre ┆ reate_mon ┆   ┆           ┆           ┆           ┆          │\n",
       "│           ┆           ┆ ate_a…    ┆ th=08…    ┆   ┆           ┆           ┆           ┆          │\n",
       "│ 202308080 ┆ 202308080 ┆ id:accoun ┆ create_ye ┆ … ┆ 8         ┆ 7         ┆ 22        ┆ 39       │\n",
       "│ 12711738  ┆ 12711738_ ┆ t:097-681 ┆ ar=2023/c ┆   ┆           ┆           ┆           ┆          │\n",
       "│           ┆ 0_8       ┆ -0802,cre ┆ reate_mon ┆   ┆           ┆           ┆           ┆          │\n",
       "│           ┆           ┆ ate_a…    ┆ th=08…    ┆   ┆           ┆           ┆           ┆          │\n",
       "│ 202308080 ┆ 202308080 ┆ id:accoun ┆ create_ye ┆ … ┆ 8         ┆ 7         ┆ 22        ┆ 29       │\n",
       "│ 12711738  ┆ 12711738_ ┆ t:351-942 ┆ ar=2023/c ┆   ┆           ┆           ┆           ┆          │\n",
       "│           ┆ 8_0       ┆ -1725,cre ┆ reate_mon ┆   ┆           ┆           ┆           ┆          │\n",
       "│           ┆           ┆ ate_a…    ┆ th=08…    ┆   ┆           ┆           ┆           ┆          │\n",
       "└───────────┴───────────┴───────────┴───────────┴───┴───────────┴───────────┴───────────┴──────────┘"
      ]
     },
     "execution_count": 2,
     "metadata": {},
     "output_type": "execute_result"
    }
   ],
   "source": [
    "df = dynamodb_to_datalake.preview_hudi_table()\n",
    "df"
   ]
  },
  {
   "cell_type": "markdown",
   "id": "f7d4e8ed-7f21-460a-aaff-025a4cf39eb8",
   "metadata": {},
   "source": [
    "## Run Increment Data Orchestrator Lambda Function code Locally\n",
    "\n",
    "The lambda function will periodically detect if there is new data (incremental data), and launch Glue job to write them into Datalake. If the Glue job is on the fly, it will wait till it finish. If the Glue job is failed, then send notification to developer that \"something is wrong\"\n"
   ]
  },
  {
   "cell_type": "code",
   "execution_count": 7,
   "id": "be5c0fac-2001-4aab-b6f8-290108ba09d1",
   "metadata": {},
   "outputs": [
    {
     "name": "stdout",
     "output_type": "stream",
     "text": [
      "try to run incremental glue job 'dynamodb_to_datalake_incremental'\n",
      "there is a running incremental glue job, check the status.\n",
      "previous glue job finished, status = 'SUCCEEDED', run another one.\n",
      "prepare the glue job parameters.\n",
      "there is no new data between (year=2023/month=08/day=08/hour=01/minute=50, year=2023/month=08/day=08/hour=01/minute=59) to process, do nothing\n"
     ]
    }
   ],
   "source": [
    "dynamodb_to_datalake.run_incremental_glue_job(epoch_processed_partition=\"year=2023/month=08/day=01/hour=00/minute=00\")"
   ]
  },
  {
   "cell_type": "markdown",
   "id": "ccd8291c-9ddd-49e6-bc3b-b9d98388a0f9",
   "metadata": {},
   "source": [
    "## Compare the Data in DynamoDB to the Data in Datalake"
   ]
  },
  {
   "cell_type": "code",
   "execution_count": 2,
   "id": "4af89401-ff1f-45a3-9072-19c938832032",
   "metadata": {},
   "outputs": [
    {
     "name": "stdout",
     "output_type": "stream",
     "text": [
      "n_dynamodb_rows: 918\n",
      "n_hudi_rows: 918\n",
      "NICE! n_dynamodb_rows == n_hudi_rows\n",
      "NICE! The data in dynamodb and hudi are exactly the same.\n"
     ]
    }
   ],
   "source": [
    "dynamodb_to_datalake.compare()"
   ]
  },
  {
   "cell_type": "code",
   "execution_count": null,
   "id": "41ea0906-6975-4446-a22e-b9f56b26e925",
   "metadata": {},
   "outputs": [],
   "source": []
  }
 ],
 "metadata": {
  "kernelspec": {
   "display_name": "Python 3 (ipykernel)",
   "language": "python",
   "name": "python3"
  },
  "language_info": {
   "codemirror_mode": {
    "name": "ipython",
    "version": 3
   },
   "file_extension": ".py",
   "mimetype": "text/x-python",
   "name": "python",
   "nbconvert_exporter": "python",
   "pygments_lexer": "ipython3",
   "version": "3.10.10"
  },
  "toc-showcode": true
 },
 "nbformat": 4,
 "nbformat_minor": 5
}
