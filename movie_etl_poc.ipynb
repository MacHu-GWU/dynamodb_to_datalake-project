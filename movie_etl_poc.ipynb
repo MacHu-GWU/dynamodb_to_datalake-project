{
 "cells": [
  {
   "cell_type": "code",
   "execution_count": 1,
   "id": "03fc0ee3-b34b-4324-9ee5-d8cd19e05864",
   "metadata": {},
   "outputs": [
    {
     "name": "stderr",
     "output_type": "stream",
     "text": [
      "SLF4J: Class path contains multiple SLF4J bindings.\n",
      "SLF4J: Found binding in [jar:file:/home/glue_user/spark/jars/log4j-slf4j-impl-2.17.2.jar!/org/slf4j/impl/StaticLoggerBinder.class]\n",
      "SLF4J: Found binding in [jar:file:/home/glue_user/spark/jars/slf4j-reload4j-1.7.36.jar!/org/slf4j/impl/StaticLoggerBinder.class]\n",
      "SLF4J: Found binding in [jar:file:/home/glue_user/aws-glue-libs/jars/log4j-slf4j-impl-2.17.2.jar!/org/slf4j/impl/StaticLoggerBinder.class]\n",
      "SLF4J: Found binding in [jar:file:/home/glue_user/aws-glue-libs/jars/slf4j-reload4j-1.7.36.jar!/org/slf4j/impl/StaticLoggerBinder.class]\n",
      "SLF4J: See http://www.slf4j.org/codes.html#multiple_bindings for an explanation.\n",
      "SLF4J: Actual binding is of type [org.apache.logging.slf4j.Log4jLoggerFactory]\n",
      "Setting default log level to \"WARN\".\n",
      "To adjust logging level use sc.setLogLevel(newLevel). For SparkR, use setLogLevel(newLevel).\n",
      "/home/glue_user/spark/python/pyspark/sql/context.py:112: FutureWarning: Deprecated in 3.0.0. Use SparkSession.builder.getOrCreate() instead.\n",
      "  warnings.warn(\n"
     ]
    }
   ],
   "source": [
    "import sys\n",
    "import boto3\n",
    "from awsglue.utils import getResolvedOptions\n",
    "from pyspark.context import SparkContext\n",
    "from awsglue.context import GlueContext\n",
    "from awsglue.job import Job\n",
    "\n",
    "spark_ctx = SparkContext()\n",
    "glue_ctx = GlueContext(spark_ctx)\n",
    "spark_ses = glue_ctx.spark_session"
   ]
  },
  {
   "cell_type": "code",
   "execution_count": 3,
   "id": "a808b124-29bc-42f7-af7b-7ec223bfd0d6",
   "metadata": {},
   "outputs": [
    {
     "name": "stdout",
     "output_type": "stream",
     "text": [
      "{'UserId': 'AIDA3X7AXU2QMU6KWRZ33', 'Account': '807388292768', 'Arn': 'arn:aws:iam::807388292768:user/sanhe', 'ResponseMetadata': {'RequestId': '3ef2a86f-1889-478e-8ca8-1366b010f0f1', 'HTTPStatusCode': 200, 'HTTPHeaders': {'x-amzn-requestid': '3ef2a86f-1889-478e-8ca8-1366b010f0f1', 'content-type': 'text/xml', 'content-length': '402', 'date': 'Tue, 25 Jul 2023 04:02:56 GMT'}, 'RetryAttempts': 0}}\n",
      "s3://807388292768-us-east-1-data/projects/dynamodb_to_datalake/dynamodb_stream/2023-07-25-03-23-24-952068.json\n",
      "s3://807388292768-us-east-1-data/projects/dynamodb_to_datalake/dynamodb_stream/2023-07-25-03-23-25-267750.json\n",
      "s3://807388292768-us-east-1-data/projects/dynamodb_to_datalake/dynamodb_stream/2023-07-25-03-23-25-451330.json\n",
      "s3://807388292768-us-east-1-data/projects/dynamodb_to_datalake/dynamodb_stream/2023-07-25-03-23-25-808103.json\n",
      "s3://807388292768-us-east-1-data/projects/dynamodb_to_datalake/dynamodb_stream/2023-07-25-03-23-25-889076.json\n",
      "s3://807388292768-us-east-1-data/projects/dynamodb_to_datalake/dynamodb_stream/2023-07-25-03-23-26-309037.json\n",
      "s3://807388292768-us-east-1-data/projects/dynamodb_to_datalake/dynamodb_stream/2023-07-25-03-23-26-588630.json\n",
      "s3://807388292768-us-east-1-data/projects/dynamodb_to_datalake/dynamodb_stream/2023-07-25-03-23-46-152631.json\n",
      "s3://807388292768-us-east-1-data/projects/dynamodb_to_datalake/dynamodb_stream/2023-07-25-03-23-46-530995.json\n",
      "s3://807388292768-us-east-1-data/projects/dynamodb_to_datalake/dynamodb_stream/2023-07-25-03-23-47-088370.json\n",
      "s3://807388292768-us-east-1-data/projects/dynamodb_to_datalake/dynamodb_stream/2023-07-25-03-24-04-468697.json\n",
      "s3://807388292768-us-east-1-data/projects/dynamodb_to_datalake/dynamodb_stream/2023-07-25-03-24-04-828872.json\n",
      "s3://807388292768-us-east-1-data/projects/dynamodb_to_datalake/dynamodb_stream/2023-07-25-03-24-05-031100.json\n",
      "s3://807388292768-us-east-1-data/projects/dynamodb_to_datalake/dynamodb_stream/2023-07-25-03-24-05-450683.json\n"
     ]
    }
   ],
   "source": [
    "aws_region = \"us-east-1\"\n",
    "boto_ses = boto3.session.Session(region_name=aws_region)\n",
    "response = boto_ses.client(\"sts\").get_caller_identity()\n",
    "aws_account_id = response[\"Account\"]\n",
    "bucket = f\"{aws_account_id}-{aws_region}-data\"\n",
    "\n",
    "s3_client = boto_ses.client(\"s3\")\n",
    "\n",
    "tracker_key = \"projects/dynamodb_to_datalake/tracker.txt\"\n",
    "try:\n",
    "    response = s3_client.get_object(Bucket=bucket, key=tracker_key)\n",
    "    last_processed_key = response[\"Body\"].read().decode(\"utf-8\")\n",
    "except Exception as e:\n",
    "    last_processed_key = \"projects/dynamodb_to_datalake/dynamodb_stream/2023-01-01-00-00-00-000000.json\"\n",
    "\n",
    "s3uri_list = list()\n",
    "key_list = list()\n",
    "\n",
    "paginator = s3_client.get_paginator(\"list_objects_v2\")\n",
    "for response in paginator.paginate(\n",
    "    Bucket=bucket,\n",
    "    Prefix=\"projects/dynamodb_to_datalake/dynamodb_stream/\",\n",
    "    PaginationConfig=dict(\n",
    "        PageSize=1000,\n",
    "    )\n",
    "):\n",
    "    for content in response[\"Contents\"]:\n",
    "        key = content[\"Key\"]\n",
    "        if key > last_processed_key:\n",
    "            s3uri_list.append(\"s3://{}/{}\".format(bucket, key))\n",
    "            key_list.append(key)\n",
    "\n",
    "if len(s3uri_list):\n",
    "    for s3uri in s3uri_list:\n",
    "        print(s3uri)\n",
    "\n",
    "    gdf = glue_ctx.create_dynamic_frame.from_options(\n",
    "        connection_type=\"s3\",\n",
    "        connection_options={\n",
    "            \"paths\": s3uri_list,\n",
    "        },\n",
    "        format=\"json\",\n",
    "        format_options={\n",
    "            \"multiline\": True,\n",
    "        },\n",
    "    )\n",
    "    pdf = gdf.toDF()"
   ]
  },
  {
   "cell_type": "code",
   "execution_count": 4,
   "id": "ff7b0cd1-b6c9-4913-8e40-ef02c7b761be",
   "metadata": {},
   "outputs": [
    {
     "name": "stdout",
     "output_type": "stream",
     "text": [
      "+---+--------------------+------+--------------------+\n",
      "| id|               title|rating|   rating_updated_at|\n",
      "+---+--------------------+------+--------------------+\n",
      "|546|Analysis expect i...|    67|2023-07-25T03:18:...|\n",
      "|709|Measure strategy ...|    89|2023-07-25T03:18:...|\n",
      "|543|Happy nothing rel...|    69|2023-07-25T03:18:...|\n",
      "|783|It growth white b...|    48|2023-07-25T03:18:...|\n",
      "|841|Service bring on ...|    39|2023-07-25T03:18:...|\n",
      "| 93|Coach ball a such...|     5|2023-07-25T03:18:...|\n",
      "|975|Card or response ...|    85|2023-07-25T03:18:...|\n",
      "|443|Parent out wait s...|    21|2023-07-25T03:18:...|\n",
      "|143|None start throug...|    28|2023-07-25T03:18:...|\n",
      "|457|Government compan...|    16|2023-07-25T03:18:...|\n",
      "|580|Within interview ...|    34|2023-07-25T03:18:...|\n",
      "|247|Effort claim summ...|    70|2023-07-25T03:18:...|\n",
      "|427|    Lead base store.|    85|2023-07-25T03:18:...|\n",
      "|494|Foot partner came...|    95|2023-07-25T03:18:...|\n",
      "|912|  Side create coach.|    81|2023-07-25T03:18:...|\n",
      "|131|Prepare industry ...|    14|2023-07-25T03:18:...|\n",
      "|406|Close everything ...|    74|2023-07-25T03:18:...|\n",
      "|501|Model hear recent...|     7|2023-07-25T03:18:...|\n",
      "|211|Prove expect midd...|    28|2023-07-25T03:18:...|\n",
      "|238|Black exist behav...|    88|2023-07-25T03:18:...|\n",
      "+---+--------------------+------+--------------------+\n",
      "only showing top 20 rows\n",
      "\n"
     ]
    }
   ],
   "source": [
    "pdf.show()"
   ]
  },
  {
   "cell_type": "code",
   "execution_count": 22,
   "id": "425a45a6-3891-4e05-8f17-d9487dd39a5b",
   "metadata": {},
   "outputs": [
    {
     "name": "stdout",
     "output_type": "stream",
     "text": [
      "+---+--------------------+------+--------------------+\n",
      "| id|               title|rating|   rating_updated_at|\n",
      "+---+--------------------+------+--------------------+\n",
      "|546|Analysis expect i...|    67|2023-07-25T03:18:...|\n",
      "|709|Measure strategy ...|    89|2023-07-25T03:18:...|\n",
      "|543|Happy nothing rel...|    69|2023-07-25T03:18:...|\n",
      "|783|It growth white b...|    48|2023-07-25T03:18:...|\n",
      "|841|Service bring on ...|    39|2023-07-25T03:18:...|\n",
      "| 93|Coach ball a such...|     5|2023-07-25T03:18:...|\n",
      "|975|Card or response ...|    85|2023-07-25T03:18:...|\n",
      "|443|Parent out wait s...|    21|2023-07-25T03:18:...|\n",
      "|143|None start throug...|    28|2023-07-25T03:18:...|\n",
      "|457|Government compan...|    16|2023-07-25T03:18:...|\n",
      "|580|Within interview ...|    34|2023-07-25T03:18:...|\n",
      "|247|Effort claim summ...|    70|2023-07-25T03:18:...|\n",
      "|427|    Lead base store.|    85|2023-07-25T03:18:...|\n",
      "|494|Foot partner came...|    95|2023-07-25T03:18:...|\n",
      "|912|  Side create coach.|    81|2023-07-25T03:18:...|\n",
      "|131|Prepare industry ...|    14|2023-07-25T03:18:...|\n",
      "|406|Close everything ...|    74|2023-07-25T03:18:...|\n",
      "|501|Model hear recent...|     7|2023-07-25T03:18:...|\n",
      "|211|Prove expect midd...|    28|2023-07-25T03:18:...|\n",
      "|238|Black exist behav...|    88|2023-07-25T03:18:...|\n",
      "+---+--------------------+------+--------------------+\n",
      "only showing top 20 rows\n",
      "\n"
     ]
    }
   ],
   "source": [
    "pdf.show()"
   ]
  },
  {
   "cell_type": "code",
   "execution_count": 27,
   "id": "68818c51-1f7a-4d7c-96ab-7d9e41ebc532",
   "metadata": {},
   "outputs": [],
   "source": [
    "from pyspark.sql.window import Window\n",
    "from pyspark.sql.functions import row_number, lit"
   ]
  },
  {
   "cell_type": "code",
   "execution_count": 24,
   "id": "e41642db-11ee-4ed3-afe2-32c8d2ba2fae",
   "metadata": {},
   "outputs": [
    {
     "name": "stdout",
     "output_type": "stream",
     "text": [
      "+---+--------------------+------+--------------------+----------+\n",
      "| id|               title|rating|   rating_updated_at|row_number|\n",
      "+---+--------------------+------+--------------------+----------+\n",
      "|  1|Center skill part...|    49|2023-07-25T03:19:...|         1|\n",
      "|  1|Center skill part...|    72|2023-07-25T03:19:...|         2|\n",
      "|  2|Large direction h...|    33|2023-07-25T03:19:...|         1|\n",
      "|  3|Theory box weight...|     5|2023-07-25T03:19:...|         1|\n",
      "|  6|First push before...|    67|2023-07-25T03:20:...|         1|\n",
      "|  8|Above analysis tr...|    92|2023-07-25T03:19:...|         1|\n",
      "|  8|Above analysis tr...|    16|2023-07-25T03:20:...|         2|\n",
      "|  9|Citizen second ex...|    49|2023-07-25T03:20:...|         1|\n",
      "|  9|Citizen second ex...|    20|2023-07-25T03:20:...|         2|\n",
      "| 12|Imagine parent on...|    89|2023-07-25T03:19:...|         1|\n",
      "| 12|Imagine parent on...|    75|2023-07-25T03:19:...|         2|\n",
      "| 15|Always themselves...|    27|2023-07-25T03:18:...|         1|\n",
      "| 15|Always themselves...|    52|2023-07-25T03:20:...|         2|\n",
      "| 16|New performance p...|    33|2023-07-25T03:18:...|         1|\n",
      "| 17|Issue own represe...|    71|2023-07-25T03:19:...|         1|\n",
      "| 19|Republican happy ...|    26|2023-07-25T03:20:...|         1|\n",
      "| 20|Difference rememb...|    95|2023-07-25T03:19:...|         1|\n",
      "| 22|Party should neve...|    56|2023-07-25T03:20:...|         1|\n",
      "| 23|Purpose service b...|    52|2023-07-25T03:18:...|         1|\n",
      "| 25|Like bill network...|    63|2023-07-25T03:19:...|         1|\n",
      "+---+--------------------+------+--------------------+----------+\n",
      "only showing top 20 rows\n",
      "\n"
     ]
    }
   ],
   "source": [
    "window_spec = Window.partitionBy([\"id\"]).orderBy(\"rating_updated_at\")\n",
    "pdf_new = pdf.withColumn(\n",
    "    \"row_number\", \n",
    "    row_number().over(window_spec)\n",
    ")\n",
    "pdf_new.show()"
   ]
  },
  {
   "cell_type": "code",
   "execution_count": 31,
   "id": "f955a8c6-9d26-421a-bb81-d11ef40f8067",
   "metadata": {},
   "outputs": [
    {
     "name": "stdout",
     "output_type": "stream",
     "text": [
      "+---+--------------------+------+--------------------+----+\n",
      "| id|               title|rating|   rating_updated_at|year|\n",
      "+---+--------------------+------+--------------------+----+\n",
      "|  1|Center skill part...|    49|2023-07-25T03:19:...|2023|\n",
      "|  2|Large direction h...|    33|2023-07-25T03:19:...|2023|\n",
      "|  3|Theory box weight...|     5|2023-07-25T03:19:...|2023|\n",
      "|  6|First push before...|    67|2023-07-25T03:20:...|2023|\n",
      "|  8|Above analysis tr...|    92|2023-07-25T03:19:...|2023|\n",
      "|  9|Citizen second ex...|    49|2023-07-25T03:20:...|2023|\n",
      "| 12|Imagine parent on...|    89|2023-07-25T03:19:...|2023|\n",
      "| 15|Always themselves...|    27|2023-07-25T03:18:...|2023|\n",
      "| 16|New performance p...|    33|2023-07-25T03:18:...|2023|\n",
      "| 17|Issue own represe...|    71|2023-07-25T03:19:...|2023|\n",
      "| 19|Republican happy ...|    26|2023-07-25T03:20:...|2023|\n",
      "| 20|Difference rememb...|    95|2023-07-25T03:19:...|2023|\n",
      "| 22|Party should neve...|    56|2023-07-25T03:20:...|2023|\n",
      "| 23|Purpose service b...|    52|2023-07-25T03:18:...|2023|\n",
      "| 25|Like bill network...|    63|2023-07-25T03:19:...|2023|\n",
      "| 26|Wish certain valu...|     2|2023-07-25T03:19:...|2023|\n",
      "| 27|Unit good always ...|    22|2023-07-25T03:19:...|2023|\n",
      "| 28|Thank unit senior...|    10|2023-07-25T03:18:...|2023|\n",
      "| 29|Consider ready ca...|    93|2023-07-25T03:20:...|2023|\n",
      "| 30|Author want agenc...|    39|2023-07-25T03:19:...|2023|\n",
      "+---+--------------------+------+--------------------+----+\n",
      "only showing top 20 rows\n",
      "\n"
     ]
    }
   ],
   "source": [
    "pdf_new.select(\n",
    "    \"id\", \"title\", \"rating\", \"rating_updated_at\",\n",
    ").where(pdf_new.row_number == 1).withColumn(\n",
    "    \"year\",\n",
    "    lit(2023),\n",
    ").show()"
   ]
  },
  {
   "cell_type": "code",
   "execution_count": 16,
   "id": "12c55d90-2548-4c72-84e4-74c0dbbc6871",
   "metadata": {},
   "outputs": [
    {
     "ename": "AnalysisException",
     "evalue": "Table or view not found: df_movie; line 4 pos 4;\n'GlobalLimit 5\n+- 'LocalLimit 5\n   +- 'Project [*]\n      +- 'UnresolvedRelation [df_movie], [], false\n",
     "output_type": "error",
     "traceback": [
      "\u001b[0;31m---------------------------------------------------------------------------\u001b[0m",
      "\u001b[0;31mAnalysisException\u001b[0m                         Traceback (most recent call last)",
      "Cell \u001b[0;32mIn[16], line 9\u001b[0m\n\u001b[1;32m      1\u001b[0m sql \u001b[38;5;241m=\u001b[39m \u001b[38;5;124m\"\"\"\u001b[39m\n\u001b[1;32m      2\u001b[0m \u001b[38;5;124mSELECT\u001b[39m\n\u001b[1;32m      3\u001b[0m \u001b[38;5;124m    *\u001b[39m\n\u001b[0;32m   (...)\u001b[0m\n\u001b[1;32m      6\u001b[0m \u001b[38;5;124mLIMIT 5\u001b[39m\n\u001b[1;32m      7\u001b[0m \u001b[38;5;124m\"\"\"\u001b[39m\u001b[38;5;241m.\u001b[39mstrip()\n\u001b[0;32m----> 9\u001b[0m pdf_filtered \u001b[38;5;241m=\u001b[39m \u001b[43mspark_ses\u001b[49m\u001b[38;5;241;43m.\u001b[39;49m\u001b[43msql\u001b[49m\u001b[43m(\u001b[49m\u001b[43msql\u001b[49m\u001b[43m)\u001b[49m\n\u001b[1;32m     10\u001b[0m pdf_filtered\u001b[38;5;241m.\u001b[39mshow()\n",
      "File \u001b[0;32m~/spark/python/pyspark/sql/session.py:1034\u001b[0m, in \u001b[0;36mSparkSession.sql\u001b[0;34m(self, sqlQuery, **kwargs)\u001b[0m\n\u001b[1;32m   1032\u001b[0m     sqlQuery \u001b[38;5;241m=\u001b[39m formatter\u001b[38;5;241m.\u001b[39mformat(sqlQuery, \u001b[38;5;241m*\u001b[39m\u001b[38;5;241m*\u001b[39mkwargs)\n\u001b[1;32m   1033\u001b[0m \u001b[38;5;28;01mtry\u001b[39;00m:\n\u001b[0;32m-> 1034\u001b[0m     \u001b[38;5;28;01mreturn\u001b[39;00m DataFrame(\u001b[38;5;28;43mself\u001b[39;49m\u001b[38;5;241;43m.\u001b[39;49m\u001b[43m_jsparkSession\u001b[49m\u001b[38;5;241;43m.\u001b[39;49m\u001b[43msql\u001b[49m\u001b[43m(\u001b[49m\u001b[43msqlQuery\u001b[49m\u001b[43m)\u001b[49m, \u001b[38;5;28mself\u001b[39m)\n\u001b[1;32m   1035\u001b[0m \u001b[38;5;28;01mfinally\u001b[39;00m:\n\u001b[1;32m   1036\u001b[0m     \u001b[38;5;28;01mif\u001b[39;00m \u001b[38;5;28mlen\u001b[39m(kwargs) \u001b[38;5;241m>\u001b[39m \u001b[38;5;241m0\u001b[39m:\n",
      "File \u001b[0;32m~/spark/python/lib/py4j-0.10.9.5-src.zip/py4j/java_gateway.py:1321\u001b[0m, in \u001b[0;36mJavaMember.__call__\u001b[0;34m(self, *args)\u001b[0m\n\u001b[1;32m   1315\u001b[0m command \u001b[38;5;241m=\u001b[39m proto\u001b[38;5;241m.\u001b[39mCALL_COMMAND_NAME \u001b[38;5;241m+\u001b[39m\\\n\u001b[1;32m   1316\u001b[0m     \u001b[38;5;28mself\u001b[39m\u001b[38;5;241m.\u001b[39mcommand_header \u001b[38;5;241m+\u001b[39m\\\n\u001b[1;32m   1317\u001b[0m     args_command \u001b[38;5;241m+\u001b[39m\\\n\u001b[1;32m   1318\u001b[0m     proto\u001b[38;5;241m.\u001b[39mEND_COMMAND_PART\n\u001b[1;32m   1320\u001b[0m answer \u001b[38;5;241m=\u001b[39m \u001b[38;5;28mself\u001b[39m\u001b[38;5;241m.\u001b[39mgateway_client\u001b[38;5;241m.\u001b[39msend_command(command)\n\u001b[0;32m-> 1321\u001b[0m return_value \u001b[38;5;241m=\u001b[39m \u001b[43mget_return_value\u001b[49m\u001b[43m(\u001b[49m\n\u001b[1;32m   1322\u001b[0m \u001b[43m    \u001b[49m\u001b[43manswer\u001b[49m\u001b[43m,\u001b[49m\u001b[43m \u001b[49m\u001b[38;5;28;43mself\u001b[39;49m\u001b[38;5;241;43m.\u001b[39;49m\u001b[43mgateway_client\u001b[49m\u001b[43m,\u001b[49m\u001b[43m \u001b[49m\u001b[38;5;28;43mself\u001b[39;49m\u001b[38;5;241;43m.\u001b[39;49m\u001b[43mtarget_id\u001b[49m\u001b[43m,\u001b[49m\u001b[43m \u001b[49m\u001b[38;5;28;43mself\u001b[39;49m\u001b[38;5;241;43m.\u001b[39;49m\u001b[43mname\u001b[49m\u001b[43m)\u001b[49m\n\u001b[1;32m   1324\u001b[0m \u001b[38;5;28;01mfor\u001b[39;00m temp_arg \u001b[38;5;129;01min\u001b[39;00m temp_args:\n\u001b[1;32m   1325\u001b[0m     temp_arg\u001b[38;5;241m.\u001b[39m_detach()\n",
      "File \u001b[0;32m~/spark/python/pyspark/sql/utils.py:196\u001b[0m, in \u001b[0;36mcapture_sql_exception.<locals>.deco\u001b[0;34m(*a, **kw)\u001b[0m\n\u001b[1;32m    192\u001b[0m converted \u001b[38;5;241m=\u001b[39m convert_exception(e\u001b[38;5;241m.\u001b[39mjava_exception)\n\u001b[1;32m    193\u001b[0m \u001b[38;5;28;01mif\u001b[39;00m \u001b[38;5;129;01mnot\u001b[39;00m \u001b[38;5;28misinstance\u001b[39m(converted, UnknownException):\n\u001b[1;32m    194\u001b[0m     \u001b[38;5;66;03m# Hide where the exception came from that shows a non-Pythonic\u001b[39;00m\n\u001b[1;32m    195\u001b[0m     \u001b[38;5;66;03m# JVM exception message.\u001b[39;00m\n\u001b[0;32m--> 196\u001b[0m     \u001b[38;5;28;01mraise\u001b[39;00m converted \u001b[38;5;28;01mfrom\u001b[39;00m \u001b[38;5;28mNone\u001b[39m\n\u001b[1;32m    197\u001b[0m \u001b[38;5;28;01melse\u001b[39;00m:\n\u001b[1;32m    198\u001b[0m     \u001b[38;5;28;01mraise\u001b[39;00m\n",
      "\u001b[0;31mAnalysisException\u001b[0m: Table or view not found: df_movie; line 4 pos 4;\n'GlobalLimit 5\n+- 'LocalLimit 5\n   +- 'Project [*]\n      +- 'UnresolvedRelation [df_movie], [], false\n"
     ]
    }
   ],
   "source": [
    "sql = \"\"\"\n",
    "SELECT\n",
    "    *\n",
    "FROM \n",
    "    df_movie\n",
    "LIMIT 5\n",
    "\"\"\".strip()\n",
    "\n",
    "pdf_filtered = spark_ses.sql(sql)\n",
    "pdf_filtered.show()"
   ]
  },
  {
   "cell_type": "code",
   "execution_count": null,
   "id": "e7d4a2c3-03d8-4f85-8d2a-d5d6dd7af8d2",
   "metadata": {},
   "outputs": [],
   "source": []
  }
 ],
 "metadata": {
  "kernelspec": {
   "display_name": "Python 3 (ipykernel)",
   "language": "python",
   "name": "python3"
  },
  "language_info": {
   "codemirror_mode": {
    "name": "ipython",
    "version": 3
   },
   "file_extension": ".py",
   "mimetype": "text/x-python",
   "name": "python",
   "nbconvert_exporter": "python",
   "pygments_lexer": "ipython3",
   "version": "3.10.2"
  }
 },
 "nbformat": 4,
 "nbformat_minor": 5
}
