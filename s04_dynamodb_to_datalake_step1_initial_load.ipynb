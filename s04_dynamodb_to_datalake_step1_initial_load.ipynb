{
 "metadata": {
  "kernelspec": {
   "name": "glue_pyspark",
   "display_name": "Glue PySpark",
   "language": "python"
  },
  "language_info": {
   "name": "Python_Glue_Session",
   "mimetype": "text/x-python",
   "codemirror_mode": {
    "name": "python",
    "version": 3
   },
   "pygments_lexer": "python3",
   "file_extension": ".py"
  }
 },
 "nbformat_minor": 4,
 "nbformat": 4,
 "cells": [
  {
   "cell_type": "markdown",
   "source": [
    "# Sample - AWS Glue Studio Notebook"
   ],
   "metadata": {
    "editable": true,
    "trusted": true
   }
  },
  {
   "cell_type": "code",
   "source": [
    "%help"
   ],
   "metadata": {
    "trusted": true,
    "editable": true
   },
   "execution_count": null,
   "outputs": []
  },
  {
   "cell_type": "markdown",
   "source": [
    "# Prepare\n",
    "\n",
    "## Set Magic"
   ],
   "metadata": {
    "editable": true,
    "trusted": true
   }
  },
  {
   "cell_type": "code",
   "source": [
    "%idle_timeout 2880\n",
    "%glue_version 3.0\n",
    "%worker_type G.1X\n",
    "%number_of_workers 2\n",
    "%%configure\n",
    "{\n",
    "    \"--conf\": \"spark.serializer=org.apache.spark.serializer.KryoSerializer --conf spark.sql.hive.convertMetastoreParquet=false\",\n",
    "    \"--datalake-formats\": \"hudi\"\n",
    "}"
   ],
   "metadata": {
    "trusted": true,
    "editable": true
   },
   "execution_count": 19,
   "outputs": [
    {
     "name": "stdout",
     "text": "Current idle_timeout is 2880 minutes.\nidle_timeout has been set to 2880 minutes.\nSetting Glue version to: 3.0\nPrevious worker type: G.1X\nSetting new worker type to: G.1X\nPrevious number of workers: 2\nSetting new number of workers to: 2\nCurrent iam_role is arn:aws:iam::807388292768:role/all-services-admin-role\niam_role has been set to arn:aws:iam::807388292768:role/all-services-admin-role.\nThe following configurations have been updated: {'--conf': 'spark.serializer=org.apache.spark.serializer.KryoSerializer --conf spark.sql.hive.convertMetastoreParquet=false', '--datalake-formats': 'hudi'}\n",
     "output_type": "stream"
    }
   ]
  },
  {
   "cell_type": "markdown",
   "source": [
    "## Create Spark Session, Spark Context, Glue Context and Glue Job"
   ],
   "metadata": {}
  },
  {
   "cell_type": "code",
   "source": [
    "import sys\n",
    "\n",
    "from pyspark import SparkConf\n",
    "from pyspark.sql import SparkSession\n",
    "from pyspark.context import SparkContext\n",
    "\n",
    "from awsglue.utils import getResolvedOptions\n",
    "from awsglue.context import GlueContext\n",
    "from awsglue.job import Job\n",
    "\n",
    "conf = (\n",
    "    SparkConf()\n",
    "    .setAppName(\"MyApp\")\n",
    "    .setAll(\n",
    "        [\n",
    "            (\"spark.serializer\", \"org.apache.spark.serializer.KryoSerializer\"),\n",
    "            (\"spark.sql.hive.convertMetastoreParquet\", \"false\"),\n",
    "        ]\n",
    "    )\n",
    ")\n",
    "spark_ses = SparkSession.builder.config(conf=conf).enableHiveSupport().getOrCreate()\n",
    "spark_ctx = spark_ses.sparkContext\n",
    "glue_ctx = GlueContext(spark_ctx)"
   ],
   "metadata": {
    "trusted": true,
    "tags": []
   },
   "execution_count": 1,
   "outputs": [
    {
     "name": "stdout",
     "text": "Trying to create a Glue session for the kernel.\nWorker Type: G.1X\nNumber of Workers: 2\nSession ID: e2cb8d69-1f59-436a-aabf-3ebdd47af49e\nJob Type: glueetl\nApplying the following default arguments:\n--glue_kernel_version 0.38.1\n--enable-glue-datacatalog true\n--conf spark.serializer=org.apache.spark.serializer.KryoSerializer --conf spark.sql.hive.convertMetastoreParquet=false\n--datalake-formats hudi\nWaiting for session e2cb8d69-1f59-436a-aabf-3ebdd47af49e to get into ready status...\nSession e2cb8d69-1f59-436a-aabf-3ebdd47af49e has been created.\n\n",
     "output_type": "stream"
    }
   ]
  },
  {
   "cell_type": "code",
   "source": [
    "import boto3\n",
    "\n",
    "boto_ses = boto3.session.Session()\n",
    "sts_client = boto_ses.client(\"sts\")\n",
    "aws_account_id = sts_client.get_caller_identity()[\"Account\"]\n",
    "aws_region = boto_ses.region_name\n",
    "\n",
    "print(f\"aws_account_id = {aws_account_id}\")\n",
    "print(f\"aws_region = {aws_region}\")"
   ],
   "metadata": {
    "trusted": true,
    "tags": []
   },
   "execution_count": 2,
   "outputs": [
    {
     "name": "stdout",
     "text": "aws_account_id = 807388292768\naws_region = us-east-1\n",
     "output_type": "stream"
    }
   ]
  },
  {
   "cell_type": "markdown",
   "source": [
    "# ETL Logic\n",
    "\n",
    "## Read Data"
   ],
   "metadata": {}
  },
  {
   "cell_type": "code",
   "source": [
    "pdf_initial = glue_ctx.create_dynamic_frame.from_options(\n",
    "    connection_type=\"s3\",\n",
    "    connection_options={\n",
    "        \"paths\": [ \n",
    "            \"s3://807388292768-us-east-1-data/projects/dynamodb_to_datalake/tables/transaction/dynamodb_export_processed/AWSDynamoDB/01690496214046-abc1da61/data/\",\n",
    "        ],\n",
    "        \"recurse\": True,\n",
    "    },\n",
    "    format=\"json\",\n",
    "    format_options={\"multiline\": True},\n",
    ").toDF()"
   ],
   "metadata": {
    "trusted": true,
    "tags": []
   },
   "execution_count": 10,
   "outputs": [
    {
     "name": "stdout",
     "text": "\n",
     "output_type": "stream"
    }
   ]
  },
  {
   "cell_type": "code",
   "source": [
    "pdf_initial.printSchema()"
   ],
   "metadata": {
    "trusted": true,
    "tags": []
   },
   "execution_count": 11,
   "outputs": [
    {
     "name": "stdout",
     "text": "root\n |-- id: string (nullable = true)\n |-- account: string (nullable = true)\n |-- create_at: string (nullable = true)\n |-- create_year: string (nullable = true)\n |-- create_month: string (nullable = true)\n |-- create_day: string (nullable = true)\n |-- create_hour: string (nullable = true)\n |-- create_minute: string (nullable = true)\n |-- update_at: string (nullable = true)\n |-- entity: string (nullable = true)\n |-- amount: integer (nullable = true)\n |-- is_credit: integer (nullable = true)\n |-- note: string (nullable = true)\n",
     "output_type": "stream"
    }
   ]
  },
  {
   "cell_type": "code",
   "source": [
    "def show_df(pdf, n: int = 3):\n",
    "    pdf.show(n, vertical=True, truncate=False)\n",
    "    \n",
    "show_df(pdf_initial)"
   ],
   "metadata": {
    "trusted": true,
    "tags": []
   },
   "execution_count": 12,
   "outputs": [
    {
     "name": "stdout",
     "text": "-RECORD 0-----------------------------------------------------------------------\n id            | account:028-584-5611,create_at:2023-07-27T22:12:03.122158+0000 \n account       | 028-584-5611                                                   \n create_at     | 2023-07-27T22:12:03.122158+0000                                \n create_year   | 2023                                                           \n create_month  | 07                                                             \n create_day    | 27                                                             \n create_hour   | 22                                                             \n create_minute | 12                                                             \n update_at     | 2023-07-27T22:12:03.122158+0000                                \n entity        | Wong Inc                                                       \n amount        | 495                                                            \n is_credit     | 0                                                              \n note          | Study really region next compare order though.                 \n-RECORD 1-----------------------------------------------------------------------\n id            | account:814-362-5976,create_at:2023-07-27T22:14:00.544881+0000 \n account       | 814-362-5976                                                   \n create_at     | 2023-07-27T22:14:00.544881+0000                                \n create_year   | 2023                                                           \n create_month  | 07                                                             \n create_day    | 27                                                             \n create_hour   | 22                                                             \n create_minute | 14                                                             \n update_at     | 2023-07-27T22:14:00.544881+0000                                \n entity        | Zimmerman, Day and Perry                                       \n amount        | 272                                                            \n is_credit     | 1                                                              \n note          | Similar right say policy program middle.                       \n-RECORD 2-----------------------------------------------------------------------\n id            | account:551-096-7522,create_at:2023-07-27T22:12:58.526387+0000 \n account       | 551-096-7522                                                   \n create_at     | 2023-07-27T22:12:58.526387+0000                                \n create_year   | 2023                                                           \n create_month  | 07                                                             \n create_day    | 27                                                             \n create_hour   | 22                                                             \n create_minute | 12                                                             \n update_at     | 2023-07-27T22:12:58.526387+0000                                \n entity        | Johnson and Sons                                               \n amount        | 518                                                            \n is_credit     | 0                                                              \n note          | Medical world east break.                                      \nonly showing top 3 rows\n",
     "output_type": "stream"
    }
   ]
  },
  {
   "cell_type": "code",
   "source": [
    "pdf_initial.count()"
   ],
   "metadata": {
    "trusted": true,
    "tags": []
   },
   "execution_count": 14,
   "outputs": [
    {
     "name": "stdout",
     "text": "7269\n",
     "output_type": "stream"
    }
   ]
  },
  {
   "cell_type": "markdown",
   "source": [
    "## Transform Data\n",
    "\n",
    "## Write Data"
   ],
   "metadata": {
    "tags": []
   }
  },
  {
   "cell_type": "code",
   "source": [
    "database = \"mydatabase\"\n",
    "table = \"transaction\"\n",
    "\n",
    "additional_options={\n",
    "    \"hoodie.table.name\": table,\n",
    "    \"hoodie.datasource.write.storage.type\": \"COPY_ON_WRITE\",\n",
    "    \"hoodie.datasource.write.operation\": \"upsert\",\n",
    "    \"hoodie.datasource.write.recordkey.field\": \"id\",\n",
    "    \"hoodie.datasource.write.precombine.field\": \"update_at\",\n",
    "    \"hoodie.datasource.write.partitionpath.field\": \"create_year,create_month,create_day,create_hour,create_minute\",\n",
    "    \"hoodie.datasource.write.hive_style_partitioning\": \"true\",\n",
    "    \"hoodie.datasource.hive_sync.enable\": \"true\",\n",
    "    \"hoodie.datasource.hive_sync.database\": database,\n",
    "    \"hoodie.datasource.hive_sync.table\": table,\n",
    "    \"hoodie.datasource.hive_sync.partition_fields\": \"create_year,create_month,create_day,create_hour,create_minute\",\n",
    "    \"hoodie.datasource.hive_sync.partition_extractor_class\": \"org.apache.hudi.hive.MultiPartKeysValueExtractor\",\n",
    "    \"hoodie.datasource.hive_sync.use_jdbc\": \"false\",\n",
    "    \"hoodie.datasource.hive_sync.mode\": \"hms\",\n",
    "    \"path\": f\"s3://{aws_account_id}-{aws_region}-data/projects/hudi-poc/databases/{database}/{table}\"\n",
    "}\n",
    "(\n",
    "    pdf_initial.write.format(\"hudi\")\n",
    "    .options(**additional_options)\n",
    "    .mode(\"overwrite\")\n",
    "    .save()\n",
    ")"
   ],
   "metadata": {
    "trusted": true,
    "tags": []
   },
   "execution_count": 13,
   "outputs": [
    {
     "name": "stdout",
     "text": "\n",
     "output_type": "stream"
    }
   ]
  },
  {
   "cell_type": "code",
   "source": [],
   "metadata": {},
   "execution_count": null,
   "outputs": []
  }
 ]
}
